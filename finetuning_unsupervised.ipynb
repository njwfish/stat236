{
 "cells": [
  {
   "cell_type": "markdown",
   "metadata": {},
   "source": [
    "Here we present a simple example of how to use fine-tuning with the `sentence-transformers` library.\n",
    "\n",
    "The example is similar to the one in the `transfer_learning.ipynb` notebook, but first we fine-tune the MLM objective to get better embeddings, and then we do the clustering."
   ]
  },
  {
   "cell_type": "code",
   "execution_count": 1,
   "metadata": {},
   "outputs": [],
   "source": [
    "import random\n",
    "import matplotlib.pyplot as plt\n",
    "import numpy as np\n",
    "\n",
    "from transformers import AutoTokenizer, AutoModelForMaskedLM, DataCollatorForLanguageModeling\n",
    "from transformers import Trainer, TrainingArguments\n",
    "from datasets import Dataset\n",
    "import torch\n",
    "\n",
    "from sklearn.cluster import KMeans\n",
    "import matplotlib.pyplot as plt\n",
    "from sklearn.manifold import TSNE\n",
    "from sklearn.metrics.pairwise import cosine_similarity"
   ]
  },
  {
   "cell_type": "code",
   "execution_count": 2,
   "metadata": {},
   "outputs": [],
   "source": [
    "# Generate a toy dataset with two categories: pet and finance\n",
    "pet_documents = [\n",
    "    \"I love playing with my dog in the park\",\n",
    "    \"The cat sleeps peacefully on the windowsill\",\n",
    "    \"My dog enjoys running in the garden\",\n",
    "    \"Cats are very independent pets\",\n",
    "    \"Taking my puppy for daily walks\",\n",
    "    \"The kitten plays with yarn all day\",\n",
    "    \"Dogs need regular exercise and training\",\n",
    "    \"My cat purrs when I pet her\",\n",
    "    \"Feeding time is my pet's favorite\",\n",
    "    \"Playing fetch with pets is fun\"\n",
    "]\n",
    "\n",
    "finance_documents = [\n",
    "    \"The stock market crashed today\",\n",
    "    \"Bitcoin prices are very volatile\",\n",
    "    \"Investors lost money in the downturn\",\n",
    "    \"Bull market continues its upward trend\",\n",
    "    \"Trading volume hits record high\",\n",
    "    \"Cryptocurrency adoption is growing\",\n",
    "    \"Market analysts predict recession\",\n",
    "    \"Stock indices reach new peaks\",\n",
    "    \"Investment strategies for beginners\",\n",
    "    \"Financial markets remain uncertain\"\n",
    "]\n",
    "\n",
    "# Create balanced dataset with 50 examples of each category\n",
    "# Using random variations with noise words to create more diversity\n",
    "\n",
    "def add_noise_to_text(text):\n",
    "    noise_words = [\n",
    "        \"today\", \"yesterday\", \"recently\", \"definitely\", \"absolutely\",\n",
    "        \"quite\", \"very\", \"extremely\", \"somewhat\", \"rather\"\n",
    "    ]\n",
    "    words = text.split()\n",
    "    # 50% chance to add a noise word at the start\n",
    "    if random.random() > 0.5:\n",
    "        words.insert(0, random.choice(noise_words))\n",
    "    # 50% chance to add a noise word at the end\n",
    "    if random.random() > 0.5:\n",
    "        words.append(random.choice(noise_words))\n",
    "    return \" \".join(words)\n",
    "\n",
    "documents = []\n",
    "for _ in range(50):  # 50 examples of each category\n",
    "    documents.append(add_noise_to_text(random.choice(pet_documents)))\n",
    "    documents.append(add_noise_to_text(random.choice(finance_documents)))\n",
    "\n",
    "# Shuffle the documents\n",
    "random.shuffle(documents)"
   ]
  },
  {
   "cell_type": "code",
   "execution_count": 3,
   "metadata": {},
   "outputs": [
    {
     "name": "stdout",
     "output_type": "stream",
     "text": [
      "Using device: mps\n"
     ]
    },
    {
     "name": "stderr",
     "output_type": "stream",
     "text": [
      "BertForMaskedLM has generative capabilities, as `prepare_inputs_for_generation` is explicitly overwritten. However, it doesn't directly inherit from `GenerationMixin`. From 👉v4.50👈 onwards, `PreTrainedModel` will NOT inherit from `GenerationMixin`, and this model will lose the ability to call `generate` and other related functions.\n",
      "  - If you're using `trust_remote_code=True`, you can get rid of this warning by loading the model with an auto class. See https://huggingface.co/docs/transformers/en/model_doc/auto#auto-classes\n",
      "  - If you are the owner of the model architecture code, please modify your model class such that it inherits from `GenerationMixin` (after `PreTrainedModel`, otherwise you'll get an exception).\n",
      "  - If you are not the owner of the model architecture class, please contact the model code owner to update it.\n",
      "Some weights of BertForMaskedLM were not initialized from the model checkpoint at sentence-transformers/all-MiniLM-L6-v2 and are newly initialized: ['cls.predictions.bias', 'cls.predictions.decoder.bias', 'cls.predictions.transform.LayerNorm.bias', 'cls.predictions.transform.LayerNorm.weight', 'cls.predictions.transform.dense.bias', 'cls.predictions.transform.dense.weight']\n",
      "You should probably TRAIN this model on a down-stream task to be able to use it for predictions and inference.\n",
      "/Users/njwfish/miniforge3/envs/pytorch/lib/python3.8/site-packages/transformers/training_args.py:1560: FutureWarning: using `no_cuda` is deprecated and will be removed in version 5.0 of 🤗 Transformers. Use `use_cpu` instead\n",
      "  warnings.warn(\n"
     ]
    },
    {
     "data": {
      "application/vnd.jupyter.widget-view+json": {
       "model_id": "5f401489651e414284b0d9c4d5cd9ee7",
       "version_major": 2,
       "version_minor": 0
      },
      "text/plain": [
       "Map:   0%|          | 0/100 [00:00<?, ? examples/s]"
      ]
     },
     "metadata": {},
     "output_type": "display_data"
    },
    {
     "name": "stdout",
     "output_type": "stream",
     "text": [
      "Training model...\n"
     ]
    },
    {
     "data": {
      "application/vnd.jupyter.widget-view+json": {
       "model_id": "2a16e52040174c499b869636cfcf4f96",
       "version_major": 2,
       "version_minor": 0
      },
      "text/plain": [
       "  0%|          | 0/35 [00:00<?, ?it/s]"
      ]
     },
     "metadata": {},
     "output_type": "display_data"
    },
    {
     "name": "stdout",
     "output_type": "stream",
     "text": [
      "{'train_runtime': 5.964, 'train_samples_per_second': 83.837, 'train_steps_per_second': 5.869, 'train_loss': 8.317506626674108, 'epoch': 5.0}\n",
      "\n",
      "Similarity matrix:\n",
      "\n",
      "Similarities for: 'My new puppy loves to play fetch'\n",
      "- 'The market showed strong gains this quarter': 0.565\n",
      "- 'Cats enjoy sleeping in the sun': 0.561\n",
      "- 'Investors are worried about inflation': 0.502\n",
      "\n",
      "Similarities for: 'The market showed strong gains this quarter'\n",
      "- 'My new puppy loves to play fetch': 0.565\n",
      "- 'Cats enjoy sleeping in the sun': 0.575\n",
      "- 'Investors are worried about inflation': 0.743\n",
      "\n",
      "Similarities for: 'Cats enjoy sleeping in the sun'\n",
      "- 'My new puppy loves to play fetch': 0.561\n",
      "- 'The market showed strong gains this quarter': 0.575\n",
      "- 'Investors are worried about inflation': 0.587\n",
      "\n",
      "Similarities for: 'Investors are worried about inflation'\n",
      "- 'My new puppy loves to play fetch': 0.502\n",
      "- 'The market showed strong gains this quarter': 0.743\n",
      "- 'Cats enjoy sleeping in the sun': 0.587\n"
     ]
    }
   ],
   "source": [
    "# Create dataset\n",
    "dataset = Dataset.from_dict({\"text\": documents})\n",
    "\n",
    "# Check available device (mps for mac, cuda for gpu)\n",
    "if torch.backends.mps.is_available():\n",
    "    device = torch.device(\"mps\")\n",
    "elif torch.cuda.is_available():\n",
    "    device = torch.device(\"cuda\")\n",
    "else:\n",
    "    device = torch.device(\"cpu\")\n",
    "\n",
    "print(f\"Using device: {device}\")\n",
    "\n",
    "# Initialize tokenizer and model\n",
    "model_name = \"sentence-transformers/all-MiniLM-L6-v2\"\n",
    "tokenizer = AutoTokenizer.from_pretrained(model_name)\n",
    "model = AutoModelForMaskedLM.from_pretrained(model_name).to(device)\n",
    "\n",
    "# Function to get embeddings from the model\n",
    "def get_embeddings(texts):\n",
    "    # Tokenize texts\n",
    "    encoded = tokenizer(texts, padding=True, truncation=True, return_tensors=\"pt\").to(device)\n",
    "    \n",
    "    # Get model outputs\n",
    "    with torch.no_grad():\n",
    "        outputs = model(**encoded, output_hidden_states=True)\n",
    "    \n",
    "    # Use the last hidden state's [CLS] token as the sentence embedding\n",
    "    embeddings = outputs.hidden_states[-1][:, 0, :].cpu().numpy()\n",
    "    return embeddings\n",
    "\n",
    "# Define training arguments with specific device settings\n",
    "training_args = TrainingArguments(\n",
    "    output_dir=\"./mlm_model\",\n",
    "    overwrite_output_dir=True,\n",
    "    num_train_epochs=5,\n",
    "    per_device_train_batch_size=16,\n",
    "    save_steps=500,\n",
    "    save_total_limit=2,\n",
    "    prediction_loss_only=True,\n",
    "    no_cuda=True if device.type == \"mps\" else False,  # Disable CUDA if using MPS\n",
    ")\n",
    "\n",
    "# Tokenize the dataset\n",
    "def tokenize_function(examples):\n",
    "    return tokenizer(examples[\"text\"], padding=\"max_length\", truncation=True, max_length=128)\n",
    "\n",
    "tokenized_dataset = dataset.map(tokenize_function, batched=True)\n",
    "\n",
    "# Create data collator for MLM\n",
    "data_collator = DataCollatorForLanguageModeling(\n",
    "    tokenizer=tokenizer,\n",
    "    mlm=True,\n",
    "    mlm_probability=0.15\n",
    ")\n",
    "\n",
    "# Define training arguments\n",
    "training_args = TrainingArguments(\n",
    "    output_dir=\"./mlm_model\",\n",
    "    overwrite_output_dir=True,\n",
    "    num_train_epochs=5,\n",
    "    per_device_train_batch_size=16,\n",
    "    save_steps=500,\n",
    "    save_total_limit=2,\n",
    "    prediction_loss_only=True,\n",
    ")\n",
    "\n",
    "# Initialize trainer\n",
    "trainer = Trainer(\n",
    "    model=model,\n",
    "    args=training_args,\n",
    "    train_dataset=tokenized_dataset,\n",
    "    data_collator=data_collator,\n",
    ")\n",
    "\n",
    "# Train the model\n",
    "print(\"Training model...\")\n",
    "trainer.train()\n",
    "\n",
    "# Test the model\n",
    "test_sentences = [\n",
    "    \"My new puppy loves to play fetch\",\n",
    "    \"The market showed strong gains this quarter\",\n",
    "    \"Cats enjoy sleeping in the sun\",\n",
    "    \"Investors are worried about inflation\"\n",
    "]\n",
    "\n",
    "# Get embeddings and calculate similarities\n",
    "embeddings = get_embeddings(test_sentences)\n",
    "\n",
    "# Calculate similarities\n",
    "similarities = cosine_similarity(embeddings)\n",
    "\n",
    "print(\"\\nSimilarity matrix:\")\n",
    "for i, sent1 in enumerate(test_sentences):\n",
    "    print(f\"\\nSimilarities for: '{sent1}'\")\n",
    "    for j, sent2 in enumerate(test_sentences):\n",
    "        if i != j:\n",
    "            print(f\"- '{sent2}': {similarities[i][j]:.3f}\")"
   ]
  },
  {
   "cell_type": "code",
   "execution_count": 4,
   "metadata": {},
   "outputs": [
    {
     "name": "stderr",
     "output_type": "stream",
     "text": [
      "/Users/njwfish/miniforge3/envs/pytorch/lib/python3.8/site-packages/sklearn/cluster/_kmeans.py:1416: FutureWarning: The default value of `n_init` will change from 10 to 'auto' in 1.4. Set the value of `n_init` explicitly to suppress the warning\n",
      "  super()._check_params_vs_input(X, default_n_init=10)\n",
      "huggingface/tokenizers: The current process just got forked, after parallelism has already been used. Disabling parallelism to avoid deadlocks...\n",
      "To disable this warning, you can either:\n",
      "\t- Avoid using `tokenizers` before the fork if possible\n",
      "\t- Explicitly set the environment variable TOKENIZERS_PARALLELISM=(true | false)\n"
     ]
    },
    {
     "data": {
      "image/png": "[encoded data removed]",
      "text/plain": [
       "<Figure size 1000x600 with 2 Axes>"
      ]
     },
     "metadata": {},
     "output_type": "display_data"
    }
   ],
   "source": [
    "embeddings = get_embeddings(documents)\n",
    "\n",
    "# Perform K-means clustering\n",
    "n_clusters = 2\n",
    "kmeans = KMeans(n_clusters=n_clusters, random_state=42)\n",
    "clusters = kmeans.fit_predict(embeddings)\n",
    "\n",
    "# Visualize the clusters using t-SNE\n",
    "tsne = TSNE(n_components=2, random_state=42)\n",
    "embeddings_2d = tsne.fit_transform(embeddings)\n",
    "\n",
    "plt.figure(figsize=(10, 6))\n",
    "scatter = plt.scatter(embeddings_2d[:, 0], embeddings_2d[:, 1], c=clusters, cmap='viridis')\n",
    "plt.title('Document Clusters')\n",
    "plt.colorbar(scatter)\n",
    "plt.show()"
   ]
  },
  {
   "cell_type": "code",
   "execution_count": null,
   "metadata": {},
   "outputs": [],
   "source": []
  }
 ],
 "metadata": {
  "kernelspec": {
   "display_name": "pytorch",
   "language": "python",
   "name": "python3"
  },
  "language_info": {
   "codemirror_mode": {
    "name": "ipython",
    "version": 3
   },
   "file_extension": ".py",
   "mimetype": "text/x-python",
   "name": "python",
   "nbconvert_exporter": "python",
   "pygments_lexer": "ipython3",
   "version": "3.8.12"
  }
 },
 "nbformat": 4,
 "nbformat_minor": 2
}
